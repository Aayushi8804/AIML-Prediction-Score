{
 "cells": [
  {
   "cell_type": "markdown",
   "id": "b812aaa9-781c-44d1-843a-063612a6ab3e",
   "metadata": {},
   "source": [
    "### Let's import certain libraries first"
   ]
  },
  {
   "cell_type": "code",
   "execution_count": 5,
   "id": "1a9b6ca0-8dcb-466c-bec3-cb575dd56b77",
   "metadata": {},
   "outputs": [],
   "source": [
    "import pandas as pd\n",
    "import numpy as np\n",
    "import matplotlib.pyplot as plt\n",
    "import seaborn as sns\n",
    "%matplotlib inline"
   ]
  },
  {
   "cell_type": "code",
   "execution_count": 6,
   "id": "4fedaee4-d0f1-40d3-a134-781669e039a8",
   "metadata": {},
   "outputs": [
    {
     "data": {
      "text/html": [
       "<div>\n",
       "<style scoped>\n",
       "    .dataframe tbody tr th:only-of-type {\n",
       "        vertical-align: middle;\n",
       "    }\n",
       "\n",
       "    .dataframe tbody tr th {\n",
       "        vertical-align: top;\n",
       "    }\n",
       "\n",
       "    .dataframe thead th {\n",
       "        text-align: right;\n",
       "    }\n",
       "</style>\n",
       "<table border=\"1\" class=\"dataframe\">\n",
       "  <thead>\n",
       "    <tr style=\"text-align: right;\">\n",
       "      <th></th>\n",
       "      <th>Name</th>\n",
       "      <th>Jersey Number</th>\n",
       "      <th>Club</th>\n",
       "      <th>Position</th>\n",
       "      <th>Nationality</th>\n",
       "      <th>Age</th>\n",
       "      <th>Appearances</th>\n",
       "      <th>Wins</th>\n",
       "      <th>Losses</th>\n",
       "      <th>Goals</th>\n",
       "      <th>...</th>\n",
       "      <th>Punches</th>\n",
       "      <th>High Claims</th>\n",
       "      <th>Catches</th>\n",
       "      <th>Sweeper clearances</th>\n",
       "      <th>Throw outs</th>\n",
       "      <th>Goal Kicks</th>\n",
       "      <th>Yellow cards</th>\n",
       "      <th>Red cards</th>\n",
       "      <th>Fouls</th>\n",
       "      <th>Offsides</th>\n",
       "    </tr>\n",
       "  </thead>\n",
       "  <tbody>\n",
       "    <tr>\n",
       "      <th>0</th>\n",
       "      <td>Bernd Leno</td>\n",
       "      <td>1</td>\n",
       "      <td>Arsenal</td>\n",
       "      <td>Goalkeeper</td>\n",
       "      <td>Germany</td>\n",
       "      <td>28</td>\n",
       "      <td>64</td>\n",
       "      <td>28</td>\n",
       "      <td>16</td>\n",
       "      <td>0</td>\n",
       "      <td>...</td>\n",
       "      <td>34</td>\n",
       "      <td>26</td>\n",
       "      <td>17</td>\n",
       "      <td>28</td>\n",
       "      <td>375</td>\n",
       "      <td>489</td>\n",
       "      <td>2</td>\n",
       "      <td>0</td>\n",
       "      <td>0</td>\n",
       "      <td>0</td>\n",
       "    </tr>\n",
       "    <tr>\n",
       "      <th>1</th>\n",
       "      <td>Matt Macey</td>\n",
       "      <td>33</td>\n",
       "      <td>Arsenal</td>\n",
       "      <td>Goalkeeper</td>\n",
       "      <td>England</td>\n",
       "      <td>26</td>\n",
       "      <td>0</td>\n",
       "      <td>0</td>\n",
       "      <td>0</td>\n",
       "      <td>0</td>\n",
       "      <td>...</td>\n",
       "      <td>0</td>\n",
       "      <td>0</td>\n",
       "      <td>0</td>\n",
       "      <td>0</td>\n",
       "      <td>0</td>\n",
       "      <td>0</td>\n",
       "      <td>0</td>\n",
       "      <td>0</td>\n",
       "      <td>0</td>\n",
       "      <td>0</td>\n",
       "    </tr>\n",
       "    <tr>\n",
       "      <th>2</th>\n",
       "      <td>Rúnar Alex Rúnarsson</td>\n",
       "      <td>13</td>\n",
       "      <td>Arsenal</td>\n",
       "      <td>Goalkeeper</td>\n",
       "      <td>Iceland</td>\n",
       "      <td>25</td>\n",
       "      <td>0</td>\n",
       "      <td>0</td>\n",
       "      <td>0</td>\n",
       "      <td>0</td>\n",
       "      <td>...</td>\n",
       "      <td>0</td>\n",
       "      <td>0</td>\n",
       "      <td>0</td>\n",
       "      <td>0</td>\n",
       "      <td>0</td>\n",
       "      <td>0</td>\n",
       "      <td>0</td>\n",
       "      <td>0</td>\n",
       "      <td>0</td>\n",
       "      <td>0</td>\n",
       "    </tr>\n",
       "    <tr>\n",
       "      <th>3</th>\n",
       "      <td>Héctor Bellerín</td>\n",
       "      <td>2</td>\n",
       "      <td>Arsenal</td>\n",
       "      <td>Defender</td>\n",
       "      <td>Spain</td>\n",
       "      <td>25</td>\n",
       "      <td>160</td>\n",
       "      <td>90</td>\n",
       "      <td>37</td>\n",
       "      <td>7</td>\n",
       "      <td>...</td>\n",
       "      <td>0</td>\n",
       "      <td>0</td>\n",
       "      <td>0</td>\n",
       "      <td>0</td>\n",
       "      <td>0</td>\n",
       "      <td>0</td>\n",
       "      <td>23</td>\n",
       "      <td>0</td>\n",
       "      <td>125</td>\n",
       "      <td>8</td>\n",
       "    </tr>\n",
       "    <tr>\n",
       "      <th>4</th>\n",
       "      <td>Kieran Tierney</td>\n",
       "      <td>3</td>\n",
       "      <td>Arsenal</td>\n",
       "      <td>Defender</td>\n",
       "      <td>Scotland</td>\n",
       "      <td>23</td>\n",
       "      <td>16</td>\n",
       "      <td>7</td>\n",
       "      <td>5</td>\n",
       "      <td>1</td>\n",
       "      <td>...</td>\n",
       "      <td>0</td>\n",
       "      <td>0</td>\n",
       "      <td>0</td>\n",
       "      <td>0</td>\n",
       "      <td>0</td>\n",
       "      <td>0</td>\n",
       "      <td>2</td>\n",
       "      <td>0</td>\n",
       "      <td>9</td>\n",
       "      <td>0</td>\n",
       "    </tr>\n",
       "  </tbody>\n",
       "</table>\n",
       "<p>5 rows × 59 columns</p>\n",
       "</div>"
      ],
      "text/plain": [
       "                   Name  Jersey Number     Club    Position Nationality  Age  \\\n",
       "0            Bernd Leno              1  Arsenal  Goalkeeper     Germany   28   \n",
       "1            Matt Macey             33  Arsenal  Goalkeeper     England   26   \n",
       "2  Rúnar Alex Rúnarsson             13  Arsenal  Goalkeeper     Iceland   25   \n",
       "3       Héctor Bellerín              2  Arsenal    Defender       Spain   25   \n",
       "4        Kieran Tierney              3  Arsenal    Defender    Scotland   23   \n",
       "\n",
       "   Appearances  Wins  Losses  Goals  ...  Punches  High Claims  Catches  \\\n",
       "0           64    28      16      0  ...       34           26       17   \n",
       "1            0     0       0      0  ...        0            0        0   \n",
       "2            0     0       0      0  ...        0            0        0   \n",
       "3          160    90      37      7  ...        0            0        0   \n",
       "4           16     7       5      1  ...        0            0        0   \n",
       "\n",
       "   Sweeper clearances  Throw outs  Goal Kicks  Yellow cards  Red cards Fouls  \\\n",
       "0                  28         375         489             2          0     0   \n",
       "1                   0           0           0             0          0     0   \n",
       "2                   0           0           0             0          0     0   \n",
       "3                   0           0           0            23          0   125   \n",
       "4                   0           0           0             2          0     9   \n",
       "\n",
       "   Offsides  \n",
       "0         0  \n",
       "1         0  \n",
       "2         0  \n",
       "3         8  \n",
       "4         0  \n",
       "\n",
       "[5 rows x 59 columns]"
      ]
     },
     "execution_count": 6,
     "metadata": {},
     "output_type": "execute_result"
    }
   ],
   "source": [
    "#Load the Dataset\n",
    "df=pd.read_csv('Football Dataset.csv')\n",
    "df.head()"
   ]
  },
  {
   "cell_type": "code",
   "execution_count": 7,
   "id": "bc3956fa-f4f2-41ab-92f0-d5c8fefeb394",
   "metadata": {},
   "outputs": [
    {
     "name": "stdout",
     "output_type": "stream",
     "text": [
      "<class 'pandas.core.frame.DataFrame'>\n",
      "RangeIndex: 571 entries, 0 to 570\n",
      "Data columns (total 59 columns):\n",
      " #   Column                  Non-Null Count  Dtype  \n",
      "---  ------                  --------------  -----  \n",
      " 0   Name                    571 non-null    object \n",
      " 1   Jersey Number           571 non-null    int64  \n",
      " 2   Club                    571 non-null    object \n",
      " 3   Position                571 non-null    object \n",
      " 4   Nationality             571 non-null    object \n",
      " 5   Age                     571 non-null    int64  \n",
      " 6   Appearances             571 non-null    int64  \n",
      " 7   Wins                    571 non-null    int64  \n",
      " 8   Losses                  571 non-null    int64  \n",
      " 9   Goals                   571 non-null    int64  \n",
      " 10  Goals per match         571 non-null    float64\n",
      " 11  Headed goals            571 non-null    int64  \n",
      " 12  Goals with right foot   571 non-null    int64  \n",
      " 13  Goals with left foot    571 non-null    int64  \n",
      " 14  Penalties scored        571 non-null    int64  \n",
      " 15  Freekicks scored        571 non-null    int64  \n",
      " 16  Shots                   571 non-null    int64  \n",
      " 17  Shots on target         571 non-null    int64  \n",
      " 18  Shooting accuracy %     571 non-null    object \n",
      " 19  Hit woodwork            571 non-null    int64  \n",
      " 20  Big chances missed      571 non-null    int64  \n",
      " 21  Clean sheets            571 non-null    int64  \n",
      " 22  Goals conceded          571 non-null    int64  \n",
      " 23  Tackles                 571 non-null    int64  \n",
      " 24  Tackle success %        571 non-null    object \n",
      " 25  Last man tackles        571 non-null    int64  \n",
      " 26  Blocked shots           571 non-null    int64  \n",
      " 27  Interceptions           571 non-null    int64  \n",
      " 28  Clearances              571 non-null    int64  \n",
      " 29  Headed Clearance        571 non-null    int64  \n",
      " 30  Clearances off line     571 non-null    int64  \n",
      " 31  Recoveries              571 non-null    int64  \n",
      " 32  Duels won               571 non-null    int64  \n",
      " 33  Duels lost              571 non-null    int64  \n",
      " 34  Successful 50/50s       571 non-null    int64  \n",
      " 35  Aerial battles won      571 non-null    int64  \n",
      " 36  Aerial battles lost     571 non-null    int64  \n",
      " 37  Own goals               571 non-null    int64  \n",
      " 38  Errors leading to goal  571 non-null    int64  \n",
      " 39  Assists                 571 non-null    int64  \n",
      " 40  Passes                  571 non-null    int64  \n",
      " 41  Passes per match        571 non-null    float64\n",
      " 42  Big chances created     571 non-null    int64  \n",
      " 43  Crosses                 571 non-null    int64  \n",
      " 44  Cross accuracy %        571 non-null    object \n",
      " 45  Through balls           571 non-null    int64  \n",
      " 46  Accurate long balls     571 non-null    int64  \n",
      " 47  Saves                   571 non-null    int64  \n",
      " 48  Penalties saved         571 non-null    int64  \n",
      " 49  Punches                 571 non-null    int64  \n",
      " 50  High Claims             571 non-null    int64  \n",
      " 51  Catches                 571 non-null    int64  \n",
      " 52  Sweeper clearances      571 non-null    int64  \n",
      " 53  Throw outs              571 non-null    int64  \n",
      " 54  Goal Kicks              571 non-null    int64  \n",
      " 55  Yellow cards            571 non-null    int64  \n",
      " 56  Red cards               571 non-null    int64  \n",
      " 57  Fouls                   571 non-null    int64  \n",
      " 58  Offsides                571 non-null    int64  \n",
      "dtypes: float64(2), int64(50), object(7)\n",
      "memory usage: 263.3+ KB\n"
     ]
    }
   ],
   "source": [
    "#Total Number of columns = 59\n",
    "df.info()"
   ]
  },
  {
   "cell_type": "code",
   "execution_count": 8,
   "id": "b5eede0f-f36b-45f2-b2e0-53e7685735f6",
   "metadata": {},
   "outputs": [
    {
     "data": {
      "text/html": [
       "<div>\n",
       "<style scoped>\n",
       "    .dataframe tbody tr th:only-of-type {\n",
       "        vertical-align: middle;\n",
       "    }\n",
       "\n",
       "    .dataframe tbody tr th {\n",
       "        vertical-align: top;\n",
       "    }\n",
       "\n",
       "    .dataframe thead th {\n",
       "        text-align: right;\n",
       "    }\n",
       "</style>\n",
       "<table border=\"1\" class=\"dataframe\">\n",
       "  <thead>\n",
       "    <tr style=\"text-align: right;\">\n",
       "      <th></th>\n",
       "      <th>Jersey Number</th>\n",
       "      <th>Age</th>\n",
       "      <th>Appearances</th>\n",
       "      <th>Wins</th>\n",
       "      <th>Losses</th>\n",
       "      <th>Goals</th>\n",
       "      <th>Goals per match</th>\n",
       "      <th>Headed goals</th>\n",
       "      <th>Goals with right foot</th>\n",
       "      <th>Goals with left foot</th>\n",
       "      <th>...</th>\n",
       "      <th>Punches</th>\n",
       "      <th>High Claims</th>\n",
       "      <th>Catches</th>\n",
       "      <th>Sweeper clearances</th>\n",
       "      <th>Throw outs</th>\n",
       "      <th>Goal Kicks</th>\n",
       "      <th>Yellow cards</th>\n",
       "      <th>Red cards</th>\n",
       "      <th>Fouls</th>\n",
       "      <th>Offsides</th>\n",
       "    </tr>\n",
       "  </thead>\n",
       "  <tbody>\n",
       "    <tr>\n",
       "      <th>count</th>\n",
       "      <td>571.000000</td>\n",
       "      <td>571.000000</td>\n",
       "      <td>571.000000</td>\n",
       "      <td>571.000000</td>\n",
       "      <td>571.000000</td>\n",
       "      <td>571.000000</td>\n",
       "      <td>571.000000</td>\n",
       "      <td>571.000000</td>\n",
       "      <td>571.000000</td>\n",
       "      <td>571.000000</td>\n",
       "      <td>...</td>\n",
       "      <td>571.000000</td>\n",
       "      <td>571.000000</td>\n",
       "      <td>571.000000</td>\n",
       "      <td>571.000000</td>\n",
       "      <td>571.000000</td>\n",
       "      <td>571.000000</td>\n",
       "      <td>571.000000</td>\n",
       "      <td>571.000000</td>\n",
       "      <td>571.000000</td>\n",
       "      <td>571.000000</td>\n",
       "    </tr>\n",
       "    <tr>\n",
       "      <th>mean</th>\n",
       "      <td>19.260946</td>\n",
       "      <td>25.744308</td>\n",
       "      <td>68.823117</td>\n",
       "      <td>28.957968</td>\n",
       "      <td>23.896673</td>\n",
       "      <td>7.327496</td>\n",
       "      <td>1.433205</td>\n",
       "      <td>1.243433</td>\n",
       "      <td>3.928196</td>\n",
       "      <td>2.099825</td>\n",
       "      <td>...</td>\n",
       "      <td>2.978984</td>\n",
       "      <td>5.542907</td>\n",
       "      <td>2.511384</td>\n",
       "      <td>3.089317</td>\n",
       "      <td>25.376532</td>\n",
       "      <td>50.045534</td>\n",
       "      <td>7.917688</td>\n",
       "      <td>0.301226</td>\n",
       "      <td>53.033275</td>\n",
       "      <td>9.726795</td>\n",
       "    </tr>\n",
       "    <tr>\n",
       "      <th>std</th>\n",
       "      <td>14.358085</td>\n",
       "      <td>4.504709</td>\n",
       "      <td>81.797516</td>\n",
       "      <td>38.969376</td>\n",
       "      <td>28.488376</td>\n",
       "      <td>16.810490</td>\n",
       "      <td>6.028720</td>\n",
       "      <td>3.251764</td>\n",
       "      <td>10.460121</td>\n",
       "      <td>5.953520</td>\n",
       "      <td>...</td>\n",
       "      <td>17.894807</td>\n",
       "      <td>32.133977</td>\n",
       "      <td>16.344680</td>\n",
       "      <td>18.353280</td>\n",
       "      <td>134.414964</td>\n",
       "      <td>259.438952</td>\n",
       "      <td>11.556811</td>\n",
       "      <td>0.698607</td>\n",
       "      <td>75.605560</td>\n",
       "      <td>25.170136</td>\n",
       "    </tr>\n",
       "    <tr>\n",
       "      <th>min</th>\n",
       "      <td>0.000000</td>\n",
       "      <td>0.000000</td>\n",
       "      <td>0.000000</td>\n",
       "      <td>0.000000</td>\n",
       "      <td>0.000000</td>\n",
       "      <td>0.000000</td>\n",
       "      <td>0.000000</td>\n",
       "      <td>0.000000</td>\n",
       "      <td>0.000000</td>\n",
       "      <td>0.000000</td>\n",
       "      <td>...</td>\n",
       "      <td>0.000000</td>\n",
       "      <td>0.000000</td>\n",
       "      <td>0.000000</td>\n",
       "      <td>0.000000</td>\n",
       "      <td>0.000000</td>\n",
       "      <td>0.000000</td>\n",
       "      <td>0.000000</td>\n",
       "      <td>0.000000</td>\n",
       "      <td>0.000000</td>\n",
       "      <td>0.000000</td>\n",
       "    </tr>\n",
       "    <tr>\n",
       "      <th>25%</th>\n",
       "      <td>8.000000</td>\n",
       "      <td>22.000000</td>\n",
       "      <td>3.000000</td>\n",
       "      <td>1.000000</td>\n",
       "      <td>1.000000</td>\n",
       "      <td>0.000000</td>\n",
       "      <td>0.000000</td>\n",
       "      <td>0.000000</td>\n",
       "      <td>0.000000</td>\n",
       "      <td>0.000000</td>\n",
       "      <td>...</td>\n",
       "      <td>0.000000</td>\n",
       "      <td>0.000000</td>\n",
       "      <td>0.000000</td>\n",
       "      <td>0.000000</td>\n",
       "      <td>0.000000</td>\n",
       "      <td>0.000000</td>\n",
       "      <td>0.000000</td>\n",
       "      <td>0.000000</td>\n",
       "      <td>1.000000</td>\n",
       "      <td>0.000000</td>\n",
       "    </tr>\n",
       "    <tr>\n",
       "      <th>50%</th>\n",
       "      <td>17.000000</td>\n",
       "      <td>26.000000</td>\n",
       "      <td>36.000000</td>\n",
       "      <td>12.000000</td>\n",
       "      <td>14.000000</td>\n",
       "      <td>1.000000</td>\n",
       "      <td>0.000000</td>\n",
       "      <td>0.000000</td>\n",
       "      <td>0.000000</td>\n",
       "      <td>0.000000</td>\n",
       "      <td>...</td>\n",
       "      <td>0.000000</td>\n",
       "      <td>0.000000</td>\n",
       "      <td>0.000000</td>\n",
       "      <td>0.000000</td>\n",
       "      <td>0.000000</td>\n",
       "      <td>0.000000</td>\n",
       "      <td>3.000000</td>\n",
       "      <td>0.000000</td>\n",
       "      <td>22.000000</td>\n",
       "      <td>1.000000</td>\n",
       "    </tr>\n",
       "    <tr>\n",
       "      <th>75%</th>\n",
       "      <td>27.000000</td>\n",
       "      <td>29.000000</td>\n",
       "      <td>108.000000</td>\n",
       "      <td>41.000000</td>\n",
       "      <td>36.000000</td>\n",
       "      <td>6.000000</td>\n",
       "      <td>0.160000</td>\n",
       "      <td>1.000000</td>\n",
       "      <td>3.000000</td>\n",
       "      <td>1.000000</td>\n",
       "      <td>...</td>\n",
       "      <td>0.000000</td>\n",
       "      <td>0.000000</td>\n",
       "      <td>0.000000</td>\n",
       "      <td>0.000000</td>\n",
       "      <td>0.000000</td>\n",
       "      <td>0.000000</td>\n",
       "      <td>11.000000</td>\n",
       "      <td>0.000000</td>\n",
       "      <td>74.000000</td>\n",
       "      <td>7.000000</td>\n",
       "    </tr>\n",
       "    <tr>\n",
       "      <th>max</th>\n",
       "      <td>82.000000</td>\n",
       "      <td>38.000000</td>\n",
       "      <td>539.000000</td>\n",
       "      <td>272.000000</td>\n",
       "      <td>158.000000</td>\n",
       "      <td>180.000000</td>\n",
       "      <td>57.000000</td>\n",
       "      <td>31.000000</td>\n",
       "      <td>127.000000</td>\n",
       "      <td>63.000000</td>\n",
       "      <td>...</td>\n",
       "      <td>269.000000</td>\n",
       "      <td>391.000000</td>\n",
       "      <td>249.000000</td>\n",
       "      <td>257.000000</td>\n",
       "      <td>1516.000000</td>\n",
       "      <td>2806.000000</td>\n",
       "      <td>81.000000</td>\n",
       "      <td>5.000000</td>\n",
       "      <td>438.000000</td>\n",
       "      <td>203.000000</td>\n",
       "    </tr>\n",
       "  </tbody>\n",
       "</table>\n",
       "<p>8 rows × 52 columns</p>\n",
       "</div>"
      ],
      "text/plain": [
       "       Jersey Number         Age  Appearances        Wins      Losses  \\\n",
       "count     571.000000  571.000000   571.000000  571.000000  571.000000   \n",
       "mean       19.260946   25.744308    68.823117   28.957968   23.896673   \n",
       "std        14.358085    4.504709    81.797516   38.969376   28.488376   \n",
       "min         0.000000    0.000000     0.000000    0.000000    0.000000   \n",
       "25%         8.000000   22.000000     3.000000    1.000000    1.000000   \n",
       "50%        17.000000   26.000000    36.000000   12.000000   14.000000   \n",
       "75%        27.000000   29.000000   108.000000   41.000000   36.000000   \n",
       "max        82.000000   38.000000   539.000000  272.000000  158.000000   \n",
       "\n",
       "            Goals  Goals per match  Headed goals  Goals with right foot  \\\n",
       "count  571.000000       571.000000    571.000000             571.000000   \n",
       "mean     7.327496         1.433205      1.243433               3.928196   \n",
       "std     16.810490         6.028720      3.251764              10.460121   \n",
       "min      0.000000         0.000000      0.000000               0.000000   \n",
       "25%      0.000000         0.000000      0.000000               0.000000   \n",
       "50%      1.000000         0.000000      0.000000               0.000000   \n",
       "75%      6.000000         0.160000      1.000000               3.000000   \n",
       "max    180.000000        57.000000     31.000000             127.000000   \n",
       "\n",
       "       Goals with left foot  ...     Punches  High Claims     Catches  \\\n",
       "count            571.000000  ...  571.000000   571.000000  571.000000   \n",
       "mean               2.099825  ...    2.978984     5.542907    2.511384   \n",
       "std                5.953520  ...   17.894807    32.133977   16.344680   \n",
       "min                0.000000  ...    0.000000     0.000000    0.000000   \n",
       "25%                0.000000  ...    0.000000     0.000000    0.000000   \n",
       "50%                0.000000  ...    0.000000     0.000000    0.000000   \n",
       "75%                1.000000  ...    0.000000     0.000000    0.000000   \n",
       "max               63.000000  ...  269.000000   391.000000  249.000000   \n",
       "\n",
       "       Sweeper clearances   Throw outs   Goal Kicks  Yellow cards   Red cards  \\\n",
       "count          571.000000   571.000000   571.000000    571.000000  571.000000   \n",
       "mean             3.089317    25.376532    50.045534      7.917688    0.301226   \n",
       "std             18.353280   134.414964   259.438952     11.556811    0.698607   \n",
       "min              0.000000     0.000000     0.000000      0.000000    0.000000   \n",
       "25%              0.000000     0.000000     0.000000      0.000000    0.000000   \n",
       "50%              0.000000     0.000000     0.000000      3.000000    0.000000   \n",
       "75%              0.000000     0.000000     0.000000     11.000000    0.000000   \n",
       "max            257.000000  1516.000000  2806.000000     81.000000    5.000000   \n",
       "\n",
       "            Fouls    Offsides  \n",
       "count  571.000000  571.000000  \n",
       "mean    53.033275    9.726795  \n",
       "std     75.605560   25.170136  \n",
       "min      0.000000    0.000000  \n",
       "25%      1.000000    0.000000  \n",
       "50%     22.000000    1.000000  \n",
       "75%     74.000000    7.000000  \n",
       "max    438.000000  203.000000  \n",
       "\n",
       "[8 rows x 52 columns]"
      ]
     },
     "execution_count": 8,
     "metadata": {},
     "output_type": "execute_result"
    }
   ],
   "source": [
    "df.describe()"
   ]
  },
  {
   "cell_type": "code",
   "execution_count": 9,
   "id": "fbcca415-91b5-4174-8842-a191398c6a6d",
   "metadata": {},
   "outputs": [
    {
     "data": {
      "text/plain": [
       "Name                      0\n",
       "Jersey Number             0\n",
       "Club                      0\n",
       "Position                  0\n",
       "Nationality               0\n",
       "Age                       0\n",
       "Appearances               0\n",
       "Wins                      0\n",
       "Losses                    0\n",
       "Goals                     0\n",
       "Goals per match           0\n",
       "Headed goals              0\n",
       "Goals with right foot     0\n",
       "Goals with left foot      0\n",
       "Penalties scored          0\n",
       "Freekicks scored          0\n",
       "Shots                     0\n",
       "Shots on target           0\n",
       "Shooting accuracy %       0\n",
       "Hit woodwork              0\n",
       "Big chances missed        0\n",
       "Clean sheets              0\n",
       "Goals conceded            0\n",
       "Tackles                   0\n",
       "Tackle success %          0\n",
       "Last man tackles          0\n",
       "Blocked shots             0\n",
       "Interceptions             0\n",
       "Clearances                0\n",
       "Headed Clearance          0\n",
       "Clearances off line       0\n",
       "Recoveries                0\n",
       "Duels won                 0\n",
       "Duels lost                0\n",
       "Successful 50/50s         0\n",
       "Aerial battles won        0\n",
       "Aerial battles lost       0\n",
       "Own goals                 0\n",
       "Errors leading to goal    0\n",
       "Assists                   0\n",
       "Passes                    0\n",
       "Passes per match          0\n",
       "Big chances created       0\n",
       "Crosses                   0\n",
       "Cross accuracy %          0\n",
       "Through balls             0\n",
       "Accurate long balls       0\n",
       "Saves                     0\n",
       "Penalties saved           0\n",
       "Punches                   0\n",
       "High Claims               0\n",
       "Catches                   0\n",
       "Sweeper clearances        0\n",
       "Throw outs                0\n",
       "Goal Kicks                0\n",
       "Yellow cards              0\n",
       "Red cards                 0\n",
       "Fouls                     0\n",
       "Offsides                  0\n",
       "dtype: int64"
      ]
     },
     "execution_count": 9,
     "metadata": {},
     "output_type": "execute_result"
    }
   ],
   "source": [
    "#To check the total number of NULL values in columns\n",
    "df.isna().sum()"
   ]
  },
  {
   "cell_type": "markdown",
   "id": "d4aa0af8-e722-45b2-b340-30931904203f",
   "metadata": {},
   "source": [
    "### Replacing all the NULL values"
   ]
  },
  {
   "cell_type": "code",
   "execution_count": 10,
   "id": "bf6e0e41-f2c5-4e41-9a67-ca6ceb67cc9d",
   "metadata": {},
   "outputs": [],
   "source": [
    "df.fillna(0, inplace=True)"
   ]
  },
  {
   "cell_type": "code",
   "execution_count": 11,
   "id": "45d2a725-fba0-4538-b147-32c28747a0d2",
   "metadata": {},
   "outputs": [
    {
     "name": "stdout",
     "output_type": "stream",
     "text": [
      "Total number of goals in 2020 were: 4184\n"
     ]
    }
   ],
   "source": [
    "#Total Goals\n",
    "Total_Goals = df['Goals'].sum()\n",
    "print(\"Total number of goals in 2020 were:\", Total_Goals)"
   ]
  },
  {
   "cell_type": "code",
   "execution_count": 12,
   "id": "d3c24aa7-f81c-410d-949e-5e792716d587",
   "metadata": {},
   "outputs": [
    {
     "name": "stdout",
     "output_type": "stream",
     "text": [
      "Total number of penalties scored in 2020 were:  301\n"
     ]
    }
   ],
   "source": [
    "# Penalty Goals\n",
    "Total_Penalties = df['Penalties scored'].sum()\n",
    "print(\"Total number of penalties scored in 2020 were: \", Total_Penalties)"
   ]
  },
  {
   "cell_type": "code",
   "execution_count": 13,
   "id": "b08e0640-f9cc-4056-a83b-3a03c39ec162",
   "metadata": {},
   "outputs": [
    {
     "data": {
      "image/png": "[encoded data removed]",
      "text/plain": [
       "<Figure size 800x500 with 1 Axes>"
      ]
     },
     "metadata": {},
     "output_type": "display_data"
    }
   ],
   "source": [
    "# Pie chart for duels lost vs Won\n",
    "plt.figure(figsize=(8, 5))\n",
    "\n",
    "# Assuming df is defined and contains the necessary data\n",
    "data = [df['Goals with left foot'].sum(), df['Goals with right foot'].sum()]  # Assuming df['Duels won'] represents the number of duels won\n",
    "labels = ['Goals with left foot', 'Goals with right foot']\n",
    "colors = sns.color_palette('Set2')\n",
    "\n",
    "plt.pie(data, labels=labels, colors=colors, autopct='%.0f%%')\n",
    "plt.show()"
   ]
  },
  {
   "cell_type": "code",
   "execution_count": 14,
   "id": "faa04136-d066-4845-93d4-0822b5be2b0c",
   "metadata": {},
   "outputs": [
    {
     "data": {
      "text/plain": [
       "<Axes: xlabel='Nationality'>"
      ]
     },
     "execution_count": 14,
     "metadata": {},
     "output_type": "execute_result"
    },
    {
     "data": {
      "image/png": "[encoded data removed]",
      "text/plain": [
       "<Figure size 800x500 with 1 Axes>"
      ]
     },
     "metadata": {},
     "output_type": "display_data"
    }
   ],
   "source": [
    "# Most players are from which country ?\n",
    "Nationality = df.groupby('Nationality').size().sort_values(ascending = False)\n",
    "Nationality.head(10).plot(kind = 'bar', figsize = (8,5), color = sns.color_palette(\"magma\"))"
   ]
  },
  {
   "cell_type": "code",
   "execution_count": 15,
   "id": "47758843-2453-4acf-a336-bf1dbb946da2",
   "metadata": {},
   "outputs": [
    {
     "data": {
      "text/plain": [
       "<Axes: xlabel='Club'>"
      ]
     },
     "execution_count": 15,
     "metadata": {},
     "output_type": "execute_result"
    },
    {
     "data": {
      "image/png": "[encoded data removed]",
      "text/plain": [
       "<Figure size 640x480 with 1 Axes>"
      ]
     },
     "metadata": {},
     "output_type": "display_data"
    }
   ],
   "source": [
    "# Clubs with maximum players in their squad in 2020\n",
    "df['Club'].value_counts().nlargest(5).plot(kind = 'bar', color = sns.color_palette(\"viridis\"))\n"
   ]
  },
  {
   "cell_type": "code",
   "execution_count": 16,
   "id": "7661b845-e21b-4b0c-b1a1-669bf5e05d54",
   "metadata": {},
   "outputs": [
    {
     "data": {
      "image/png": "[encoded data removed]",
      "text/plain": [
       "<Figure size 640x480 with 1 Axes>"
      ]
     },
     "metadata": {},
     "output_type": "display_data"
    }
   ],
   "source": [
    "# Players based on each group\n",
    "\n",
    "Under20 = df[df['Age'] <= 20]\n",
    "age20_25 = df[(df['Age'] > 20) & (df['Age'] <=25)]\n",
    "age25_30 = df[(df['Age'] > 25) & (df['Age'] <=30)]\n",
    "Above30 = df[(df['Age'] > 30)]\n",
    "\n",
    "x = np.array([Under20['Name'].count(), age20_25['Name'].count(), age25_30['Name'].count(), Above30['Name'].count()])\n",
    "mylabels = [\"<=20\", \">20 & <=25\", \">25 & <=30\", \">30\"]\n",
    "plt.title('Total Players with Age Groups', fontsize = 17)\n",
    "plt.pie(x, labels = mylabels, autopct=\"%.1f%%\")\n",
    "plt.show()"
   ]
  },
  {
   "cell_type": "code",
   "execution_count": 17,
   "id": "0baa0fd1-0534-4fcf-b998-1ffd7554e9f7",
   "metadata": {},
   "outputs": [
    {
     "data": {
      "text/plain": [
       "<Figure size 50x50 with 0 Axes>"
      ]
     },
     "execution_count": 17,
     "metadata": {},
     "output_type": "execute_result"
    },
    {
     "data": {
      "image/png": "[encoded data removed]",
      "text/plain": [
       "<Figure size 640x480 with 1 Axes>"
      ]
     },
     "metadata": {},
     "output_type": "display_data"
    },
    {
     "data": {
      "text/plain": [
       "<Figure size 50x50 with 0 Axes>"
      ]
     },
     "metadata": {},
     "output_type": "display_data"
    }
   ],
   "source": [
    "# Total under 25 players in each club\n",
    "players_under_20 = df[df['Age'] < 20]\n",
    "players_under_20['Club'].value_counts().plot(kind='bar', color = sns.color_palette(\"cubehelix\"))\n",
    "plt.figure(figsize=(0.5, 0.5))"
   ]
  },
  {
   "cell_type": "code",
   "execution_count": 18,
   "id": "dde8f767-f4a9-4988-9621-b2c5775c5a88",
   "metadata": {},
   "outputs": [
    {
     "data": {
      "text/plain": [
       "Text(0.5, 1.0, 'Plot of Clubs vs Total Goals')"
      ]
     },
     "execution_count": 18,
     "metadata": {},
     "output_type": "execute_result"
    },
    {
     "data": {
      "image/png": "[encoded data removed]",
      "text/plain": [
       "<Figure size 640x480 with 1 Axes>"
      ]
     },
     "metadata": {},
     "output_type": "display_data"
    }
   ],
   "source": [
    "# Plot of Clubs vs TotalGoals\n",
    "\n",
    "Goals_by_clubs = pd.DataFrame(df.groupby('Club', as_index = False)['Goals'].sum())\n",
    "sns.set_theme(style = \"whitegrid\", color_codes = True)\n",
    "ax = sns.barplot(x='Club', y='Goals', data = Goals_by_clubs.sort_values(by = \"Goals\"), hue='Club', palette='rocket')\n",
    "ax.set_xlabel(\"Club\", fontsize=30)\n",
    "ax.set_ylabel(\"Goals\", fontsize=20)\n",
    "plt.xticks(rotation = 75)\n",
    "plt.rcParams[\"figure.figsize\"] = (15,6)\n",
    "plt.title('Plot of Clubs vs Total Goals', fontsize= 20)"
   ]
  },
  {
   "cell_type": "markdown",
   "id": "a5006a40-93fe-4a01-8d7e-dacb3187fe87",
   "metadata": {},
   "source": [
    "# Let's move onto Prediction Model\n"
   ]
  },
  {
   "cell_type": "markdown",
   "id": "aa8b11d5-fbff-48df-9e4c-ba73ac8f3ac0",
   "metadata": {},
   "source": [
    "### Importing important libraries"
   ]
  },
  {
   "cell_type": "code",
   "execution_count": 19,
   "id": "a43196da-e9cb-4299-b01a-5fdcf2f50765",
   "metadata": {},
   "outputs": [],
   "source": [
    "from sklearn.model_selection import train_test_split\n",
    "from sklearn.tree import DecisionTreeRegressor\n",
    "from sklearn.metrics import mean_squared_error\n",
    "from sklearn.metrics import accuracy_score"
   ]
  },
  {
   "cell_type": "markdown",
   "id": "d49bb1f7-5d50-4963-a764-0295514779a0",
   "metadata": {},
   "source": [
    "## Choosing the features"
   ]
  },
  {
   "cell_type": "markdown",
   "id": "2d0ed45d-d931-4ee7-be18-8dcb80a9ebda",
   "metadata": {},
   "source": [
    "### Here we will choose the features from the dataset that are appropriate to predict the goals scored by a player."
   ]
  },
  {
   "cell_type": "markdown",
   "id": "98be25f9-6eb1-4eb8-850f-407d750ac7c3",
   "metadata": {},
   "source": [
    "### To do so, we will create a variable named 'features' that holds all the columns of the dataset that we want."
   ]
  },
  {
   "cell_type": "code",
   "execution_count": 20,
   "id": "10478056-a602-43f8-a243-5df3cfc7d0e3",
   "metadata": {},
   "outputs": [],
   "source": [
    "features = ['Goals', 'Age', 'Appearances', 'Wins', 'Goals per match', 'Headed goals', 'Goals with right foot', 'Goals with left foot', 'Penalties scored', 'Freekicks scored', 'Shots', 'Shots on target',]"
   ]
  },
  {
   "cell_type": "markdown",
   "id": "0c6bbb4a-9061-4881-9683-d63abab72074",
   "metadata": {},
   "source": [
    "## Choosing the target"
   ]
  },
  {
   "cell_type": "markdown",
   "id": "4d7aed2b-b26e-4c5e-a3cd-691bfc7cbd69",
   "metadata": {},
   "source": [
    "### As we are looking to predict the goals scored by each player, 'Goals' will be our target "
   ]
  },
  {
   "cell_type": "code",
   "execution_count": 21,
   "id": "7ac8e495-832e-4d61-a02f-ba017b4eea0a",
   "metadata": {},
   "outputs": [],
   "source": [
    "target = ['Goals']"
   ]
  },
  {
   "cell_type": "markdown",
   "id": "b35efeea-cf4d-4171-af99-65e2faf017f8",
   "metadata": {},
   "source": [
    "## Creating the features and target variables"
   ]
  },
  {
   "cell_type": "code",
   "execution_count": 23,
   "id": "21067acc-9949-47f7-ae0b-c3c0d46bb6dd",
   "metadata": {},
   "outputs": [],
   "source": [
    "X = df[features]\n",
    "y = df[target]"
   ]
  },
  {
   "cell_type": "markdown",
   "id": "f7c899df-77a5-49b7-8a85-0235b3a6ec20",
   "metadata": {},
   "source": [
    "## Splitting the training and testing sets"
   ]
  },
  {
   "cell_type": "code",
   "execution_count": 24,
   "id": "85472dca-f786-49ab-ab2a-9618db8675ea",
   "metadata": {},
   "outputs": [],
   "source": [
    "X_train, X_test, y_train, y_test = train_test_split(X, y, test_size = 0.2, random_state = 42)"
   ]
  },
  {
   "cell_type": "markdown",
   "id": "80482fc5-5504-47d1-807c-1e8d4119c46e",
   "metadata": {},
   "source": [
    "## Creating the Decision Tree Model"
   ]
  },
  {
   "cell_type": "code",
   "execution_count": 25,
   "id": "b6c9443e-c571-431c-924b-fd76a684909a",
   "metadata": {},
   "outputs": [],
   "source": [
    "model = DecisionTreeRegressor(random_state = 42)"
   ]
  },
  {
   "cell_type": "markdown",
   "id": "215ed566-33e7-4a32-9a81-8ab31340b6c6",
   "metadata": {},
   "source": [
    "## Training the model"
   ]
  },
  {
   "cell_type": "code",
   "execution_count": 26,
   "id": "678f8cd5-33e6-4568-8e0e-5e1cc4dcd104",
   "metadata": {},
   "outputs": [
    {
     "data": {
      "text/html": [
       "<style>#sk-container-id-1 {\n",
       "  /* Definition of color scheme common for light and dark mode */\n",
       "  --sklearn-color-text: black;\n",
       "  --sklearn-color-line: gray;\n",
       "  /* Definition of color scheme for unfitted estimators */\n",
       "  --sklearn-color-unfitted-level-0: #fff5e6;\n",
       "  --sklearn-color-unfitted-level-1: #f6e4d2;\n",
       "  --sklearn-color-unfitted-level-2: #ffe0b3;\n",
       "  --sklearn-color-unfitted-level-3: chocolate;\n",
       "  /* Definition of color scheme for fitted estimators */\n",
       "  --sklearn-color-fitted-level-0: #f0f8ff;\n",
       "  --sklearn-color-fitted-level-1: #d4ebff;\n",
       "  --sklearn-color-fitted-level-2: #b3dbfd;\n",
       "  --sklearn-color-fitted-level-3: cornflowerblue;\n",
       "\n",
       "  /* Specific color for light theme */\n",
       "  --sklearn-color-text-on-default-background: var(--sg-text-color, var(--theme-code-foreground, var(--jp-content-font-color1, black)));\n",
       "  --sklearn-color-background: var(--sg-background-color, var(--theme-background, var(--jp-layout-color0, white)));\n",
       "  --sklearn-color-border-box: var(--sg-text-color, var(--theme-code-foreground, var(--jp-content-font-color1, black)));\n",
       "  --sklearn-color-icon: #696969;\n",
       "\n",
       "  @media (prefers-color-scheme: dark) {\n",
       "    /* Redefinition of color scheme for dark theme */\n",
       "    --sklearn-color-text-on-default-background: var(--sg-text-color, var(--theme-code-foreground, var(--jp-content-font-color1, white)));\n",
       "    --sklearn-color-background: var(--sg-background-color, var(--theme-background, var(--jp-layout-color0, #111)));\n",
       "    --sklearn-color-border-box: var(--sg-text-color, var(--theme-code-foreground, var(--jp-content-font-color1, white)));\n",
       "    --sklearn-color-icon: #878787;\n",
       "  }\n",
       "}\n",
       "\n",
       "#sk-container-id-1 {\n",
       "  color: var(--sklearn-color-text);\n",
       "}\n",
       "\n",
       "#sk-container-id-1 pre {\n",
       "  padding: 0;\n",
       "}\n",
       "\n",
       "#sk-container-id-1 input.sk-hidden--visually {\n",
       "  border: 0;\n",
       "  clip: rect(1px 1px 1px 1px);\n",
       "  clip: rect(1px, 1px, 1px, 1px);\n",
       "  height: 1px;\n",
       "  margin: -1px;\n",
       "  overflow: hidden;\n",
       "  padding: 0;\n",
       "  position: absolute;\n",
       "  width: 1px;\n",
       "}\n",
       "\n",
       "#sk-container-id-1 div.sk-dashed-wrapped {\n",
       "  border: 1px dashed var(--sklearn-color-line);\n",
       "  margin: 0 0.4em 0.5em 0.4em;\n",
       "  box-sizing: border-box;\n",
       "  padding-bottom: 0.4em;\n",
       "  background-color: var(--sklearn-color-background);\n",
       "}\n",
       "\n",
       "#sk-container-id-1 div.sk-container {\n",
       "  /* jupyter's `normalize.less` sets `[hidden] { display: none; }`\n",
       "     but bootstrap.min.css set `[hidden] { display: none !important; }`\n",
       "     so we also need the `!important` here to be able to override the\n",
       "     default hidden behavior on the sphinx rendered scikit-learn.org.\n",
       "     See: https://github.com/scikit-learn/scikit-learn/issues/21755 */\n",
       "  display: inline-block !important;\n",
       "  position: relative;\n",
       "}\n",
       "\n",
       "#sk-container-id-1 div.sk-text-repr-fallback {\n",
       "  display: none;\n",
       "}\n",
       "\n",
       "div.sk-parallel-item,\n",
       "div.sk-serial,\n",
       "div.sk-item {\n",
       "  /* draw centered vertical line to link estimators */\n",
       "  background-image: linear-gradient(var(--sklearn-color-text-on-default-background), var(--sklearn-color-text-on-default-background));\n",
       "  background-size: 2px 100%;\n",
       "  background-repeat: no-repeat;\n",
       "  background-position: center center;\n",
       "}\n",
       "\n",
       "/* Parallel-specific style estimator block */\n",
       "\n",
       "#sk-container-id-1 div.sk-parallel-item::after {\n",
       "  content: \"\";\n",
       "  width: 100%;\n",
       "  border-bottom: 2px solid var(--sklearn-color-text-on-default-background);\n",
       "  flex-grow: 1;\n",
       "}\n",
       "\n",
       "#sk-container-id-1 div.sk-parallel {\n",
       "  display: flex;\n",
       "  align-items: stretch;\n",
       "  justify-content: center;\n",
       "  background-color: var(--sklearn-color-background);\n",
       "  position: relative;\n",
       "}\n",
       "\n",
       "#sk-container-id-1 div.sk-parallel-item {\n",
       "  display: flex;\n",
       "  flex-direction: column;\n",
       "}\n",
       "\n",
       "#sk-container-id-1 div.sk-parallel-item:first-child::after {\n",
       "  align-self: flex-end;\n",
       "  width: 50%;\n",
       "}\n",
       "\n",
       "#sk-container-id-1 div.sk-parallel-item:last-child::after {\n",
       "  align-self: flex-start;\n",
       "  width: 50%;\n",
       "}\n",
       "\n",
       "#sk-container-id-1 div.sk-parallel-item:only-child::after {\n",
       "  width: 0;\n",
       "}\n",
       "\n",
       "/* Serial-specific style estimator block */\n",
       "\n",
       "#sk-container-id-1 div.sk-serial {\n",
       "  display: flex;\n",
       "  flex-direction: column;\n",
       "  align-items: center;\n",
       "  background-color: var(--sklearn-color-background);\n",
       "  padding-right: 1em;\n",
       "  padding-left: 1em;\n",
       "}\n",
       "\n",
       "\n",
       "/* Toggleable style: style used for estimator/Pipeline/ColumnTransformer box that is\n",
       "clickable and can be expanded/collapsed.\n",
       "- Pipeline and ColumnTransformer use this feature and define the default style\n",
       "- Estimators will overwrite some part of the style using the `sk-estimator` class\n",
       "*/\n",
       "\n",
       "/* Pipeline and ColumnTransformer style (default) */\n",
       "\n",
       "#sk-container-id-1 div.sk-toggleable {\n",
       "  /* Default theme specific background. It is overwritten whether we have a\n",
       "  specific estimator or a Pipeline/ColumnTransformer */\n",
       "  background-color: var(--sklearn-color-background);\n",
       "}\n",
       "\n",
       "/* Toggleable label */\n",
       "#sk-container-id-1 label.sk-toggleable__label {\n",
       "  cursor: pointer;\n",
       "  display: block;\n",
       "  width: 100%;\n",
       "  margin-bottom: 0;\n",
       "  padding: 0.5em;\n",
       "  box-sizing: border-box;\n",
       "  text-align: center;\n",
       "}\n",
       "\n",
       "#sk-container-id-1 label.sk-toggleable__label-arrow:before {\n",
       "  /* Arrow on the left of the label */\n",
       "  content: \"▸\";\n",
       "  float: left;\n",
       "  margin-right: 0.25em;\n",
       "  color: var(--sklearn-color-icon);\n",
       "}\n",
       "\n",
       "#sk-container-id-1 label.sk-toggleable__label-arrow:hover:before {\n",
       "  color: var(--sklearn-color-text);\n",
       "}\n",
       "\n",
       "/* Toggleable content - dropdown */\n",
       "\n",
       "#sk-container-id-1 div.sk-toggleable__content {\n",
       "  max-height: 0;\n",
       "  max-width: 0;\n",
       "  overflow: hidden;\n",
       "  text-align: left;\n",
       "  /* unfitted */\n",
       "  background-color: var(--sklearn-color-unfitted-level-0);\n",
       "}\n",
       "\n",
       "#sk-container-id-1 div.sk-toggleable__content.fitted {\n",
       "  /* fitted */\n",
       "  background-color: var(--sklearn-color-fitted-level-0);\n",
       "}\n",
       "\n",
       "#sk-container-id-1 div.sk-toggleable__content pre {\n",
       "  margin: 0.2em;\n",
       "  border-radius: 0.25em;\n",
       "  color: var(--sklearn-color-text);\n",
       "  /* unfitted */\n",
       "  background-color: var(--sklearn-color-unfitted-level-0);\n",
       "}\n",
       "\n",
       "#sk-container-id-1 div.sk-toggleable__content.fitted pre {\n",
       "  /* unfitted */\n",
       "  background-color: var(--sklearn-color-fitted-level-0);\n",
       "}\n",
       "\n",
       "#sk-container-id-1 input.sk-toggleable__control:checked~div.sk-toggleable__content {\n",
       "  /* Expand drop-down */\n",
       "  max-height: 200px;\n",
       "  max-width: 100%;\n",
       "  overflow: auto;\n",
       "}\n",
       "\n",
       "#sk-container-id-1 input.sk-toggleable__control:checked~label.sk-toggleable__label-arrow:before {\n",
       "  content: \"▾\";\n",
       "}\n",
       "\n",
       "/* Pipeline/ColumnTransformer-specific style */\n",
       "\n",
       "#sk-container-id-1 div.sk-label input.sk-toggleable__control:checked~label.sk-toggleable__label {\n",
       "  color: var(--sklearn-color-text);\n",
       "  background-color: var(--sklearn-color-unfitted-level-2);\n",
       "}\n",
       "\n",
       "#sk-container-id-1 div.sk-label.fitted input.sk-toggleable__control:checked~label.sk-toggleable__label {\n",
       "  background-color: var(--sklearn-color-fitted-level-2);\n",
       "}\n",
       "\n",
       "/* Estimator-specific style */\n",
       "\n",
       "/* Colorize estimator box */\n",
       "#sk-container-id-1 div.sk-estimator input.sk-toggleable__control:checked~label.sk-toggleable__label {\n",
       "  /* unfitted */\n",
       "  background-color: var(--sklearn-color-unfitted-level-2);\n",
       "}\n",
       "\n",
       "#sk-container-id-1 div.sk-estimator.fitted input.sk-toggleable__control:checked~label.sk-toggleable__label {\n",
       "  /* fitted */\n",
       "  background-color: var(--sklearn-color-fitted-level-2);\n",
       "}\n",
       "\n",
       "#sk-container-id-1 div.sk-label label.sk-toggleable__label,\n",
       "#sk-container-id-1 div.sk-label label {\n",
       "  /* The background is the default theme color */\n",
       "  color: var(--sklearn-color-text-on-default-background);\n",
       "}\n",
       "\n",
       "/* On hover, darken the color of the background */\n",
       "#sk-container-id-1 div.sk-label:hover label.sk-toggleable__label {\n",
       "  color: var(--sklearn-color-text);\n",
       "  background-color: var(--sklearn-color-unfitted-level-2);\n",
       "}\n",
       "\n",
       "/* Label box, darken color on hover, fitted */\n",
       "#sk-container-id-1 div.sk-label.fitted:hover label.sk-toggleable__label.fitted {\n",
       "  color: var(--sklearn-color-text);\n",
       "  background-color: var(--sklearn-color-fitted-level-2);\n",
       "}\n",
       "\n",
       "/* Estimator label */\n",
       "\n",
       "#sk-container-id-1 div.sk-label label {\n",
       "  font-family: monospace;\n",
       "  font-weight: bold;\n",
       "  display: inline-block;\n",
       "  line-height: 1.2em;\n",
       "}\n",
       "\n",
       "#sk-container-id-1 div.sk-label-container {\n",
       "  text-align: center;\n",
       "}\n",
       "\n",
       "/* Estimator-specific */\n",
       "#sk-container-id-1 div.sk-estimator {\n",
       "  font-family: monospace;\n",
       "  border: 1px dotted var(--sklearn-color-border-box);\n",
       "  border-radius: 0.25em;\n",
       "  box-sizing: border-box;\n",
       "  margin-bottom: 0.5em;\n",
       "  /* unfitted */\n",
       "  background-color: var(--sklearn-color-unfitted-level-0);\n",
       "}\n",
       "\n",
       "#sk-container-id-1 div.sk-estimator.fitted {\n",
       "  /* fitted */\n",
       "  background-color: var(--sklearn-color-fitted-level-0);\n",
       "}\n",
       "\n",
       "/* on hover */\n",
       "#sk-container-id-1 div.sk-estimator:hover {\n",
       "  /* unfitted */\n",
       "  background-color: var(--sklearn-color-unfitted-level-2);\n",
       "}\n",
       "\n",
       "#sk-container-id-1 div.sk-estimator.fitted:hover {\n",
       "  /* fitted */\n",
       "  background-color: var(--sklearn-color-fitted-level-2);\n",
       "}\n",
       "\n",
       "/* Specification for estimator info (e.g. \"i\" and \"?\") */\n",
       "\n",
       "/* Common style for \"i\" and \"?\" */\n",
       "\n",
       ".sk-estimator-doc-link,\n",
       "a:link.sk-estimator-doc-link,\n",
       "a:visited.sk-estimator-doc-link {\n",
       "  float: right;\n",
       "  font-size: smaller;\n",
       "  line-height: 1em;\n",
       "  font-family: monospace;\n",
       "  background-color: var(--sklearn-color-background);\n",
       "  border-radius: 1em;\n",
       "  height: 1em;\n",
       "  width: 1em;\n",
       "  text-decoration: none !important;\n",
       "  margin-left: 1ex;\n",
       "  /* unfitted */\n",
       "  border: var(--sklearn-color-unfitted-level-1) 1pt solid;\n",
       "  color: var(--sklearn-color-unfitted-level-1);\n",
       "}\n",
       "\n",
       ".sk-estimator-doc-link.fitted,\n",
       "a:link.sk-estimator-doc-link.fitted,\n",
       "a:visited.sk-estimator-doc-link.fitted {\n",
       "  /* fitted */\n",
       "  border: var(--sklearn-color-fitted-level-1) 1pt solid;\n",
       "  color: var(--sklearn-color-fitted-level-1);\n",
       "}\n",
       "\n",
       "/* On hover */\n",
       "div.sk-estimator:hover .sk-estimator-doc-link:hover,\n",
       ".sk-estimator-doc-link:hover,\n",
       "div.sk-label-container:hover .sk-estimator-doc-link:hover,\n",
       ".sk-estimator-doc-link:hover {\n",
       "  /* unfitted */\n",
       "  background-color: var(--sklearn-color-unfitted-level-3);\n",
       "  color: var(--sklearn-color-background);\n",
       "  text-decoration: none;\n",
       "}\n",
       "\n",
       "div.sk-estimator.fitted:hover .sk-estimator-doc-link.fitted:hover,\n",
       ".sk-estimator-doc-link.fitted:hover,\n",
       "div.sk-label-container:hover .sk-estimator-doc-link.fitted:hover,\n",
       ".sk-estimator-doc-link.fitted:hover {\n",
       "  /* fitted */\n",
       "  background-color: var(--sklearn-color-fitted-level-3);\n",
       "  color: var(--sklearn-color-background);\n",
       "  text-decoration: none;\n",
       "}\n",
       "\n",
       "/* Span, style for the box shown on hovering the info icon */\n",
       ".sk-estimator-doc-link span {\n",
       "  display: none;\n",
       "  z-index: 9999;\n",
       "  position: relative;\n",
       "  font-weight: normal;\n",
       "  right: .2ex;\n",
       "  padding: .5ex;\n",
       "  margin: .5ex;\n",
       "  width: min-content;\n",
       "  min-width: 20ex;\n",
       "  max-width: 50ex;\n",
       "  color: var(--sklearn-color-text);\n",
       "  box-shadow: 2pt 2pt 4pt #999;\n",
       "  /* unfitted */\n",
       "  background: var(--sklearn-color-unfitted-level-0);\n",
       "  border: .5pt solid var(--sklearn-color-unfitted-level-3);\n",
       "}\n",
       "\n",
       ".sk-estimator-doc-link.fitted span {\n",
       "  /* fitted */\n",
       "  background: var(--sklearn-color-fitted-level-0);\n",
       "  border: var(--sklearn-color-fitted-level-3);\n",
       "}\n",
       "\n",
       ".sk-estimator-doc-link:hover span {\n",
       "  display: block;\n",
       "}\n",
       "\n",
       "/* \"?\"-specific style due to the `<a>` HTML tag */\n",
       "\n",
       "#sk-container-id-1 a.estimator_doc_link {\n",
       "  float: right;\n",
       "  font-size: 1rem;\n",
       "  line-height: 1em;\n",
       "  font-family: monospace;\n",
       "  background-color: var(--sklearn-color-background);\n",
       "  border-radius: 1rem;\n",
       "  height: 1rem;\n",
       "  width: 1rem;\n",
       "  text-decoration: none;\n",
       "  /* unfitted */\n",
       "  color: var(--sklearn-color-unfitted-level-1);\n",
       "  border: var(--sklearn-color-unfitted-level-1) 1pt solid;\n",
       "}\n",
       "\n",
       "#sk-container-id-1 a.estimator_doc_link.fitted {\n",
       "  /* fitted */\n",
       "  border: var(--sklearn-color-fitted-level-1) 1pt solid;\n",
       "  color: var(--sklearn-color-fitted-level-1);\n",
       "}\n",
       "\n",
       "/* On hover */\n",
       "#sk-container-id-1 a.estimator_doc_link:hover {\n",
       "  /* unfitted */\n",
       "  background-color: var(--sklearn-color-unfitted-level-3);\n",
       "  color: var(--sklearn-color-background);\n",
       "  text-decoration: none;\n",
       "}\n",
       "\n",
       "#sk-container-id-1 a.estimator_doc_link.fitted:hover {\n",
       "  /* fitted */\n",
       "  background-color: var(--sklearn-color-fitted-level-3);\n",
       "}\n",
       "</style><div id=\"sk-container-id-1\" class=\"sk-top-container\"><div class=\"sk-text-repr-fallback\"><pre>DecisionTreeRegressor(random_state=42)</pre><b>In a Jupyter environment, please rerun this cell to show the HTML representation or trust the notebook. <br />On GitHub, the HTML representation is unable to render, please try loading this page with nbviewer.org.</b></div><div class=\"sk-container\" hidden><div class=\"sk-item\"><div class=\"sk-estimator fitted sk-toggleable\"><input class=\"sk-toggleable__control sk-hidden--visually\" id=\"sk-estimator-id-1\" type=\"checkbox\" checked><label for=\"sk-estimator-id-1\" class=\"sk-toggleable__label fitted sk-toggleable__label-arrow fitted\">&nbsp;&nbsp;DecisionTreeRegressor<a class=\"sk-estimator-doc-link fitted\" rel=\"noreferrer\" target=\"_blank\" href=\"https://scikit-learn.org/1.4/modules/generated/sklearn.tree.DecisionTreeRegressor.html\">?<span>Documentation for DecisionTreeRegressor</span></a><span class=\"sk-estimator-doc-link fitted\">i<span>Fitted</span></span></label><div class=\"sk-toggleable__content fitted\"><pre>DecisionTreeRegressor(random_state=42)</pre></div> </div></div></div></div>"
      ],
      "text/plain": [
       "DecisionTreeRegressor(random_state=42)"
      ]
     },
     "execution_count": 26,
     "metadata": {},
     "output_type": "execute_result"
    }
   ],
   "source": [
    "model.fit(X_train, y_train)"
   ]
  },
  {
   "cell_type": "markdown",
   "id": "2fd20c7f-123e-4b86-a81c-41450c5d8d21",
   "metadata": {},
   "source": [
    "## Making the predictions"
   ]
  },
  {
   "cell_type": "code",
   "execution_count": 27,
   "id": "28f414b4-15b8-46cf-8769-6253704391b0",
   "metadata": {},
   "outputs": [],
   "source": [
    "y_pred_test = model.predict(X_test)\n",
    "y_pred_train = model.predict(X_train)"
   ]
  },
  {
   "cell_type": "markdown",
   "id": "37ba8f19-daff-4daa-b27a-93e52613e44b",
   "metadata": {},
   "source": [
    "# Calculating MSE and accuracy of the model"
   ]
  },
  {
   "cell_type": "markdown",
   "id": "68424000-0757-4e81-9cb9-ea9d56c7f2d3",
   "metadata": {},
   "source": [
    "## Meqan Squared Error (MSE)"
   ]
  },
  {
   "cell_type": "code",
   "execution_count": 29,
   "id": "c60a8204-e56d-4a3c-b762-18a40e13d417",
   "metadata": {},
   "outputs": [],
   "source": [
    "mse = mean_squared_error(y_test, y_pred_test)"
   ]
  },
  {
   "cell_type": "code",
   "execution_count": 30,
   "id": "f36be1e4-23e7-4167-bbf2-4b67f855c654",
   "metadata": {},
   "outputs": [
    {
     "name": "stdout",
     "output_type": "stream",
     "text": [
      "Mean Sqaured Error (MSE):  0.20869565217391303\n"
     ]
    }
   ],
   "source": [
    "print(\"Mean Sqaured Error (MSE): \", mse)"
   ]
  },
  {
   "cell_type": "markdown",
   "id": "258b29ea-bb8b-4737-b287-98e699a40015",
   "metadata": {},
   "source": [
    "### Accuracy"
   ]
  },
  {
   "cell_type": "code",
   "execution_count": 31,
   "id": "ae43157b-3f25-46b0-9353-02156099fa33",
   "metadata": {},
   "outputs": [],
   "source": [
    "accuracy = accuracy_score(y_test, y_pred_test)"
   ]
  },
  {
   "cell_type": "code",
   "execution_count": 32,
   "id": "c5fa45f8-821e-4841-97e3-13fe7c0cd107",
   "metadata": {},
   "outputs": [
    {
     "name": "stdout",
     "output_type": "stream",
     "text": [
      "Accuracy:  0.9478260869565217\n"
     ]
    }
   ],
   "source": [
    "print(\"Accuracy: \", accuracy)"
   ]
  },
  {
   "cell_type": "markdown",
   "id": "e06186a6-88c6-4f2a-8323-00b334aa4e14",
   "metadata": {},
   "source": [
    "## Accuracy in %"
   ]
  },
  {
   "cell_type": "code",
   "execution_count": 33,
   "id": "cf5632de-50a0-46fc-8ca6-2fa1a2a56d2d",
   "metadata": {},
   "outputs": [],
   "source": [
    "accuracy_perc = (accuracy/1) * 100"
   ]
  },
  {
   "cell_type": "code",
   "execution_count": 34,
   "id": "b37ad55e-502d-421a-bf85-b5bed5a0cfa7",
   "metadata": {},
   "outputs": [],
   "source": [
    "accuracy_perc = format(accuracy_perc, '.2f')"
   ]
  },
  {
   "cell_type": "code",
   "execution_count": 35,
   "id": "b17f6a2f-b30e-4234-a435-6de5316d3418",
   "metadata": {},
   "outputs": [
    {
     "name": "stdout",
     "output_type": "stream",
     "text": [
      "Accuracy is:  94.78 %\n"
     ]
    }
   ],
   "source": [
    "print(\"Accuracy is: \", accuracy_perc, '%')"
   ]
  },
  {
   "cell_type": "markdown",
   "id": "ddbdd31b-569c-4f62-a82f-6f55bfea65da",
   "metadata": {},
   "source": [
    "# Analyzing The Predictions"
   ]
  },
  {
   "cell_type": "code",
   "execution_count": 36,
   "id": "045257b3-5330-400c-8b6d-82f2bc8df528",
   "metadata": {},
   "outputs": [
    {
     "name": "stdout",
     "output_type": "stream",
     "text": [
      "[ 0.  0. 25.  1.  0.  0.  5. 33.  0.  0.  2.  0.  0.  0.  1.  0.  0.  0.\n",
      "  1.  1.  1.  0.  0. 11.  2. 31.  0.  0.  0.  1.  0.  1. 10. 10.  0.  0.\n",
      " 13. 17.  3.  0.  8.  1. 50. 11. 13.  9.  2.  6. 25.  0.  0.  0.  0. 12.\n",
      "  1.  4.  0.  0.  0.  0.  0.  0.  3.  2.  0.  0. 20.  2.  0.  0.  0.  2.\n",
      " 10.  0.  0.  0.  0.  0.  0.  2.  9.  7.  2.  0.  0.  0.  6.  0.  0.  0.\n",
      "  6.  2.  0.  0. 38.  0. 30.  0.  0.  0. 19. 86.  2.  2.  0.  1. 45.  0.\n",
      "  1. 10. 12.  0.  4. 10.  0.]\n",
      "[  0.   0.   1.   0.   1.  15.   0.   0.   0.   4.  25.   5.   0.   2.\n",
      "   0.   0.   0.  25.   7.   0.   0.  16.   0.   4.   0.   0.   0.   5.\n",
      "   0.   0.  12.   2.   0.   8.  61.   1.   5.   0.   0.   0.   0.   9.\n",
      "   1.   0.   0.   3.   0.  14.   7.   0.   0.   4.   0.   0.   6.  41.\n",
      "   6.  15.   0.   1.  31.   1.   0.  22.  53.   6.   2.   0.   6.   1.\n",
      "   1.   0.   2.   0.  13.   0.   0.   0.  30.   0.   4.   0.   3.   1.\n",
      "   5.   0.   8.   7.   2.  10.   3.   7.   3.   0.   0.   0.   0.   0.\n",
      "   3.   0.   0.  41.   0.   0.  11.   3.   2.  14.   2.  55.   1.  17.\n",
      "   0.   0.   0.   0.   0.   0.   8.   1.   0.   3.   2.  20.   0.   0.\n",
      "   0.  39.  50.  22.   0. 105.   0.   0.   3.   0.  57.   5.   3.   0.\n",
      "   0.   0.   2.   7.   2.   0.  23.   1.   6.   0.   2.  27.   0.   1.\n",
      "   0.   0.   0.   0.   0.   0.   0.  39.   0.   1.   0.   0.   0.  16.\n",
      "   0.  55.   0.   8.   0.  14.   0.   0.  46.   3.   1.   0.  16.   0.\n",
      "   3.   0.   0.   2.  20.   0.   2.   0.  36.  45.   0.   0.   2.   0.\n",
      "   3.   0.  37.   1.   3.   1.  75.   0.   4.  14.  20.   0.  12.   1.\n",
      "   1.   5.   0.   0.   0.   4.   7. 144.   4.   0.   8.   0.   2.  12.\n",
      "   0.   0.   1.   0.   6.   3.   1.   4.  51.   0.  86.   0.   2.   7.\n",
      "   1.   0.  42.   6.   0.   7.  25.   4.  55.   0.   4.  38.   3.   0.\n",
      "   0.  57.  78.  27.   0.   0.   0.  18.   0.  19.   0.  28.   2.   1.\n",
      "   0.   0.   5.   3.  16.   6.   0.   0.   2.   0.   0.   5.   0.   0.\n",
      "   0.   5.   0.   2.   1.   8.   3.  72.   3.  21.  12.   0.   1.  10.\n",
      "  13.   1.   0.   3.  19.   0.   0.   5.   3.   0.  34.   0.   4.   0.\n",
      "   0.   2.   0.   4.  20.   1.   4.   2.   0.  20.   8.   1.   2.   1.\n",
      "   0.   1.   0.  26.   0.   1.   6.   0.   0.   0.   0.   1.   0.   1.\n",
      "   0.  25.   9.   0.   0.   1.   4.  12.   7.   4.  10.   0.   8.   0.\n",
      "   0.   0.  23.   1.   1.   0.   0.   8.   9.   0.   0.   7.   0. 180.\n",
      "   6.   3.   3.   0.   6.   0.   0.   0.   1.   0.   0.   0.   8.  18.\n",
      "   0.   0.   0.   6.   8.   3.   2.   0.   0.   5.   4.   0.   6.   4.\n",
      "   2.   4.  11.   0.   0.   1.  16.   7.   2.   0.   0.   0.   0.   0.\n",
      "   0.   1.   0.  18.   0.   0.  57.   0.  33.   0.   4.   1.   0.   0.\n",
      "   0.   0.  22.   5.   0.   2.   1.   0.   0.   0.   1.  86.   4.  22.\n",
      "   6.   1.   6.   2.  42.  42.   7.  10.   7.   6.   5.   4.   8.   0.\n",
      "   1.   1.   8.   0.   0.  13.   9.   0.]\n"
     ]
    }
   ],
   "source": [
    "print(y_pred_test)\n",
    "print(y_pred_train)"
   ]
  },
  {
   "cell_type": "code",
   "execution_count": 37,
   "id": "63003366-8f04-4683-9edb-725e3244d297",
   "metadata": {},
   "outputs": [
    {
     "data": {
      "text/plain": [
       "(115,)"
      ]
     },
     "execution_count": 37,
     "metadata": {},
     "output_type": "execute_result"
    }
   ],
   "source": [
    "y_pred_test.shape"
   ]
  },
  {
   "cell_type": "code",
   "execution_count": 38,
   "id": "3c3695e5-2ef3-4b40-b8c6-b67c16138b89",
   "metadata": {},
   "outputs": [
    {
     "data": {
      "text/plain": [
       "(456,)"
      ]
     },
     "execution_count": 38,
     "metadata": {},
     "output_type": "execute_result"
    }
   ],
   "source": [
    "y_pred_train.shape"
   ]
  },
  {
   "cell_type": "code",
   "execution_count": 39,
   "id": "fb5ef189-b022-469a-a8c9-791610ecbf77",
   "metadata": {},
   "outputs": [],
   "source": [
    "predictions = np.concatenate((y_pred_test, y_pred_train))"
   ]
  },
  {
   "cell_type": "code",
   "execution_count": 40,
   "id": "4a6fa0ea-8dd2-415d-b539-c205fcc8b410",
   "metadata": {},
   "outputs": [
    {
     "name": "stdout",
     "output_type": "stream",
     "text": [
      "[  0.   0.  25.   1.   0.   0.   5.  33.   0.   0.   2.   0.   0.   0.\n",
      "   1.   0.   0.   0.   1.   1.   1.   0.   0.  11.   2.  31.   0.   0.\n",
      "   0.   1.   0.   1.  10.  10.   0.   0.  13.  17.   3.   0.   8.   1.\n",
      "  50.  11.  13.   9.   2.   6.  25.   0.   0.   0.   0.  12.   1.   4.\n",
      "   0.   0.   0.   0.   0.   0.   3.   2.   0.   0.  20.   2.   0.   0.\n",
      "   0.   2.  10.   0.   0.   0.   0.   0.   0.   2.   9.   7.   2.   0.\n",
      "   0.   0.   6.   0.   0.   0.   6.   2.   0.   0.  38.   0.  30.   0.\n",
      "   0.   0.  19.  86.   2.   2.   0.   1.  45.   0.   1.  10.  12.   0.\n",
      "   4.  10.   0.   0.   0.   1.   0.   1.  15.   0.   0.   0.   4.  25.\n",
      "   5.   0.   2.   0.   0.   0.  25.   7.   0.   0.  16.   0.   4.   0.\n",
      "   0.   0.   5.   0.   0.  12.   2.   0.   8.  61.   1.   5.   0.   0.\n",
      "   0.   0.   9.   1.   0.   0.   3.   0.  14.   7.   0.   0.   4.   0.\n",
      "   0.   6.  41.   6.  15.   0.   1.  31.   1.   0.  22.  53.   6.   2.\n",
      "   0.   6.   1.   1.   0.   2.   0.  13.   0.   0.   0.  30.   0.   4.\n",
      "   0.   3.   1.   5.   0.   8.   7.   2.  10.   3.   7.   3.   0.   0.\n",
      "   0.   0.   0.   3.   0.   0.  41.   0.   0.  11.   3.   2.  14.   2.\n",
      "  55.   1.  17.   0.   0.   0.   0.   0.   0.   8.   1.   0.   3.   2.\n",
      "  20.   0.   0.   0.  39.  50.  22.   0. 105.   0.   0.   3.   0.  57.\n",
      "   5.   3.   0.   0.   0.   2.   7.   2.   0.  23.   1.   6.   0.   2.\n",
      "  27.   0.   1.   0.   0.   0.   0.   0.   0.   0.  39.   0.   1.   0.\n",
      "   0.   0.  16.   0.  55.   0.   8.   0.  14.   0.   0.  46.   3.   1.\n",
      "   0.  16.   0.   3.   0.   0.   2.  20.   0.   2.   0.  36.  45.   0.\n",
      "   0.   2.   0.   3.   0.  37.   1.   3.   1.  75.   0.   4.  14.  20.\n",
      "   0.  12.   1.   1.   5.   0.   0.   0.   4.   7. 144.   4.   0.   8.\n",
      "   0.   2.  12.   0.   0.   1.   0.   6.   3.   1.   4.  51.   0.  86.\n",
      "   0.   2.   7.   1.   0.  42.   6.   0.   7.  25.   4.  55.   0.   4.\n",
      "  38.   3.   0.   0.  57.  78.  27.   0.   0.   0.  18.   0.  19.   0.\n",
      "  28.   2.   1.   0.   0.   5.   3.  16.   6.   0.   0.   2.   0.   0.\n",
      "   5.   0.   0.   0.   5.   0.   2.   1.   8.   3.  72.   3.  21.  12.\n",
      "   0.   1.  10.  13.   1.   0.   3.  19.   0.   0.   5.   3.   0.  34.\n",
      "   0.   4.   0.   0.   2.   0.   4.  20.   1.   4.   2.   0.  20.   8.\n",
      "   1.   2.   1.   0.   1.   0.  26.   0.   1.   6.   0.   0.   0.   0.\n",
      "   1.   0.   1.   0.  25.   9.   0.   0.   1.   4.  12.   7.   4.  10.\n",
      "   0.   8.   0.   0.   0.  23.   1.   1.   0.   0.   8.   9.   0.   0.\n",
      "   7.   0. 180.   6.   3.   3.   0.   6.   0.   0.   0.   1.   0.   0.\n",
      "   0.   8.  18.   0.   0.   0.   6.   8.   3.   2.   0.   0.   5.   4.\n",
      "   0.   6.   4.   2.   4.  11.   0.   0.   1.  16.   7.   2.   0.   0.\n",
      "   0.   0.   0.   0.   1.   0.  18.   0.   0.  57.   0.  33.   0.   4.\n",
      "   1.   0.   0.   0.   0.  22.   5.   0.   2.   1.   0.   0.   0.   1.\n",
      "  86.   4.  22.   6.   1.   6.   2.  42.  42.   7.  10.   7.   6.   5.\n",
      "   4.   8.   0.   1.   1.   8.   0.   0.  13.   9.   0.]\n"
     ]
    }
   ],
   "source": [
    "print(predictions)"
   ]
  },
  {
   "cell_type": "markdown",
   "id": "a69a3bab-f214-496b-bb82-0822224ce3ac",
   "metadata": {},
   "source": [
    "## Putting the predictions into the dataset itself"
   ]
  },
  {
   "cell_type": "code",
   "execution_count": 42,
   "id": "ce4affdf-6d4c-4076-818a-c4de6993ddd4",
   "metadata": {},
   "outputs": [],
   "source": [
    "df['Predicted Goals'] = predictions"
   ]
  },
  {
   "cell_type": "code",
   "execution_count": 43,
   "id": "e7392f3b-442c-415a-9c72-f8f7de9d50b6",
   "metadata": {},
   "outputs": [
    {
     "data": {
      "text/html": [
       "<div>\n",
       "<style scoped>\n",
       "    .dataframe tbody tr th:only-of-type {\n",
       "        vertical-align: middle;\n",
       "    }\n",
       "\n",
       "    .dataframe tbody tr th {\n",
       "        vertical-align: top;\n",
       "    }\n",
       "\n",
       "    .dataframe thead th {\n",
       "        text-align: right;\n",
       "    }\n",
       "</style>\n",
       "<table border=\"1\" class=\"dataframe\">\n",
       "  <thead>\n",
       "    <tr style=\"text-align: right;\">\n",
       "      <th></th>\n",
       "      <th>Name</th>\n",
       "      <th>Jersey Number</th>\n",
       "      <th>Club</th>\n",
       "      <th>Position</th>\n",
       "      <th>Nationality</th>\n",
       "      <th>Age</th>\n",
       "      <th>Appearances</th>\n",
       "      <th>Wins</th>\n",
       "      <th>Losses</th>\n",
       "      <th>Goals</th>\n",
       "      <th>...</th>\n",
       "      <th>High Claims</th>\n",
       "      <th>Catches</th>\n",
       "      <th>Sweeper clearances</th>\n",
       "      <th>Throw outs</th>\n",
       "      <th>Goal Kicks</th>\n",
       "      <th>Yellow cards</th>\n",
       "      <th>Red cards</th>\n",
       "      <th>Fouls</th>\n",
       "      <th>Offsides</th>\n",
       "      <th>Predicted Goals</th>\n",
       "    </tr>\n",
       "  </thead>\n",
       "  <tbody>\n",
       "    <tr>\n",
       "      <th>0</th>\n",
       "      <td>Bernd Leno</td>\n",
       "      <td>1</td>\n",
       "      <td>Arsenal</td>\n",
       "      <td>Goalkeeper</td>\n",
       "      <td>Germany</td>\n",
       "      <td>28</td>\n",
       "      <td>64</td>\n",
       "      <td>28</td>\n",
       "      <td>16</td>\n",
       "      <td>0</td>\n",
       "      <td>...</td>\n",
       "      <td>26</td>\n",
       "      <td>17</td>\n",
       "      <td>28</td>\n",
       "      <td>375</td>\n",
       "      <td>489</td>\n",
       "      <td>2</td>\n",
       "      <td>0</td>\n",
       "      <td>0</td>\n",
       "      <td>0</td>\n",
       "      <td>0.0</td>\n",
       "    </tr>\n",
       "    <tr>\n",
       "      <th>1</th>\n",
       "      <td>Matt Macey</td>\n",
       "      <td>33</td>\n",
       "      <td>Arsenal</td>\n",
       "      <td>Goalkeeper</td>\n",
       "      <td>England</td>\n",
       "      <td>26</td>\n",
       "      <td>0</td>\n",
       "      <td>0</td>\n",
       "      <td>0</td>\n",
       "      <td>0</td>\n",
       "      <td>...</td>\n",
       "      <td>0</td>\n",
       "      <td>0</td>\n",
       "      <td>0</td>\n",
       "      <td>0</td>\n",
       "      <td>0</td>\n",
       "      <td>0</td>\n",
       "      <td>0</td>\n",
       "      <td>0</td>\n",
       "      <td>0</td>\n",
       "      <td>0.0</td>\n",
       "    </tr>\n",
       "    <tr>\n",
       "      <th>2</th>\n",
       "      <td>Rúnar Alex Rúnarsson</td>\n",
       "      <td>13</td>\n",
       "      <td>Arsenal</td>\n",
       "      <td>Goalkeeper</td>\n",
       "      <td>Iceland</td>\n",
       "      <td>25</td>\n",
       "      <td>0</td>\n",
       "      <td>0</td>\n",
       "      <td>0</td>\n",
       "      <td>0</td>\n",
       "      <td>...</td>\n",
       "      <td>0</td>\n",
       "      <td>0</td>\n",
       "      <td>0</td>\n",
       "      <td>0</td>\n",
       "      <td>0</td>\n",
       "      <td>0</td>\n",
       "      <td>0</td>\n",
       "      <td>0</td>\n",
       "      <td>0</td>\n",
       "      <td>25.0</td>\n",
       "    </tr>\n",
       "    <tr>\n",
       "      <th>3</th>\n",
       "      <td>Héctor Bellerín</td>\n",
       "      <td>2</td>\n",
       "      <td>Arsenal</td>\n",
       "      <td>Defender</td>\n",
       "      <td>Spain</td>\n",
       "      <td>25</td>\n",
       "      <td>160</td>\n",
       "      <td>90</td>\n",
       "      <td>37</td>\n",
       "      <td>7</td>\n",
       "      <td>...</td>\n",
       "      <td>0</td>\n",
       "      <td>0</td>\n",
       "      <td>0</td>\n",
       "      <td>0</td>\n",
       "      <td>0</td>\n",
       "      <td>23</td>\n",
       "      <td>0</td>\n",
       "      <td>125</td>\n",
       "      <td>8</td>\n",
       "      <td>1.0</td>\n",
       "    </tr>\n",
       "    <tr>\n",
       "      <th>4</th>\n",
       "      <td>Kieran Tierney</td>\n",
       "      <td>3</td>\n",
       "      <td>Arsenal</td>\n",
       "      <td>Defender</td>\n",
       "      <td>Scotland</td>\n",
       "      <td>23</td>\n",
       "      <td>16</td>\n",
       "      <td>7</td>\n",
       "      <td>5</td>\n",
       "      <td>1</td>\n",
       "      <td>...</td>\n",
       "      <td>0</td>\n",
       "      <td>0</td>\n",
       "      <td>0</td>\n",
       "      <td>0</td>\n",
       "      <td>0</td>\n",
       "      <td>2</td>\n",
       "      <td>0</td>\n",
       "      <td>9</td>\n",
       "      <td>0</td>\n",
       "      <td>0.0</td>\n",
       "    </tr>\n",
       "  </tbody>\n",
       "</table>\n",
       "<p>5 rows × 60 columns</p>\n",
       "</div>"
      ],
      "text/plain": [
       "                   Name  Jersey Number     Club    Position Nationality  Age  \\\n",
       "0            Bernd Leno              1  Arsenal  Goalkeeper     Germany   28   \n",
       "1            Matt Macey             33  Arsenal  Goalkeeper     England   26   \n",
       "2  Rúnar Alex Rúnarsson             13  Arsenal  Goalkeeper     Iceland   25   \n",
       "3       Héctor Bellerín              2  Arsenal    Defender       Spain   25   \n",
       "4        Kieran Tierney              3  Arsenal    Defender    Scotland   23   \n",
       "\n",
       "   Appearances  Wins  Losses  Goals  ...  High Claims  Catches  \\\n",
       "0           64    28      16      0  ...           26       17   \n",
       "1            0     0       0      0  ...            0        0   \n",
       "2            0     0       0      0  ...            0        0   \n",
       "3          160    90      37      7  ...            0        0   \n",
       "4           16     7       5      1  ...            0        0   \n",
       "\n",
       "   Sweeper clearances  Throw outs  Goal Kicks  Yellow cards  Red cards  Fouls  \\\n",
       "0                  28         375         489             2          0      0   \n",
       "1                   0           0           0             0          0      0   \n",
       "2                   0           0           0             0          0      0   \n",
       "3                   0           0           0            23          0    125   \n",
       "4                   0           0           0             2          0      9   \n",
       "\n",
       "  Offsides  Predicted Goals  \n",
       "0        0              0.0  \n",
       "1        0              0.0  \n",
       "2        0             25.0  \n",
       "3        8              1.0  \n",
       "4        0              0.0  \n",
       "\n",
       "[5 rows x 60 columns]"
      ]
     },
     "execution_count": 43,
     "metadata": {},
     "output_type": "execute_result"
    }
   ],
   "source": [
    "df.head(5)"
   ]
  },
  {
   "cell_type": "markdown",
   "id": "68077c6b-84d3-4503-a353-772caf22adc7",
   "metadata": {},
   "source": [
    "# Finding ratings of players based on predicted goals scored"
   ]
  },
  {
   "cell_type": "markdown",
   "id": "79adbb8a-ce3f-4df0-981b-f6100223f54a",
   "metadata": {},
   "source": [
    "## Finding the average among predicted goals"
   ]
  },
  {
   "cell_type": "code",
   "execution_count": 44,
   "id": "372b42dd-e6ae-4a61-9078-b657bfc32dec",
   "metadata": {},
   "outputs": [],
   "source": [
    "sum = df['Predicted Goals'].sum()"
   ]
  },
  {
   "cell_type": "markdown",
   "id": "33cc2896-6a12-4cf7-ba23-dcffb00e27d9",
   "metadata": {},
   "source": [
    "## Calculating ratings"
   ]
  },
  {
   "cell_type": "code",
   "execution_count": 45,
   "id": "f4aa2741-aef2-47a8-8e4c-bfd82a43aa70",
   "metadata": {},
   "outputs": [],
   "source": [
    "ratings =[]"
   ]
  },
  {
   "cell_type": "code",
   "execution_count": 46,
   "id": "7b682654-ad5a-44f3-89d1-bf3753c0aa7e",
   "metadata": {},
   "outputs": [],
   "source": [
    "for goals in df['Predicted Goals']:\n",
    "    rating = (goals/sum) * 100\n",
    "    rating = int(rating * 100)\n",
    "    ratings.append(rating)"
   ]
  },
  {
   "cell_type": "markdown",
   "id": "0d583f8a-2d2d-454c-90ae-dec018a2e88a",
   "metadata": {},
   "source": [
    "## Adding ratings to the dataset"
   ]
  },
  {
   "cell_type": "code",
   "execution_count": 48,
   "id": "71cc4923-a336-40a6-8002-564dfaade6a4",
   "metadata": {},
   "outputs": [],
   "source": [
    "df['Rating based on scoring'] = ratings"
   ]
  },
  {
   "cell_type": "markdown",
   "id": "a4046955-b0d2-4434-aee0-234e109036a2",
   "metadata": {},
   "source": [
    "## Displaying the predicted data"
   ]
  },
  {
   "cell_type": "code",
   "execution_count": 50,
   "id": "b4dde37f-9298-47bf-95b0-cac7748209f1",
   "metadata": {},
   "outputs": [
    {
     "data": {
      "text/html": [
       "<div>\n",
       "<style scoped>\n",
       "    .dataframe tbody tr th:only-of-type {\n",
       "        vertical-align: middle;\n",
       "    }\n",
       "\n",
       "    .dataframe tbody tr th {\n",
       "        vertical-align: top;\n",
       "    }\n",
       "\n",
       "    .dataframe thead th {\n",
       "        text-align: right;\n",
       "    }\n",
       "</style>\n",
       "<table border=\"1\" class=\"dataframe\">\n",
       "  <thead>\n",
       "    <tr style=\"text-align: right;\">\n",
       "      <th></th>\n",
       "      <th>Name</th>\n",
       "      <th>Jersey Number</th>\n",
       "      <th>Club</th>\n",
       "      <th>Position</th>\n",
       "      <th>Nationality</th>\n",
       "      <th>Age</th>\n",
       "      <th>Appearances</th>\n",
       "      <th>Wins</th>\n",
       "      <th>Losses</th>\n",
       "      <th>Goals</th>\n",
       "      <th>...</th>\n",
       "      <th>Catches</th>\n",
       "      <th>Sweeper clearances</th>\n",
       "      <th>Throw outs</th>\n",
       "      <th>Goal Kicks</th>\n",
       "      <th>Yellow cards</th>\n",
       "      <th>Red cards</th>\n",
       "      <th>Fouls</th>\n",
       "      <th>Offsides</th>\n",
       "      <th>Predicted Goals</th>\n",
       "      <th>Rating based on scoring</th>\n",
       "    </tr>\n",
       "  </thead>\n",
       "  <tbody>\n",
       "    <tr>\n",
       "      <th>0</th>\n",
       "      <td>Bernd Leno</td>\n",
       "      <td>1</td>\n",
       "      <td>Arsenal</td>\n",
       "      <td>Goalkeeper</td>\n",
       "      <td>Germany</td>\n",
       "      <td>28</td>\n",
       "      <td>64</td>\n",
       "      <td>28</td>\n",
       "      <td>16</td>\n",
       "      <td>0</td>\n",
       "      <td>...</td>\n",
       "      <td>17</td>\n",
       "      <td>28</td>\n",
       "      <td>375</td>\n",
       "      <td>489</td>\n",
       "      <td>2</td>\n",
       "      <td>0</td>\n",
       "      <td>0</td>\n",
       "      <td>0</td>\n",
       "      <td>0.0</td>\n",
       "      <td>0</td>\n",
       "    </tr>\n",
       "    <tr>\n",
       "      <th>1</th>\n",
       "      <td>Matt Macey</td>\n",
       "      <td>33</td>\n",
       "      <td>Arsenal</td>\n",
       "      <td>Goalkeeper</td>\n",
       "      <td>England</td>\n",
       "      <td>26</td>\n",
       "      <td>0</td>\n",
       "      <td>0</td>\n",
       "      <td>0</td>\n",
       "      <td>0</td>\n",
       "      <td>...</td>\n",
       "      <td>0</td>\n",
       "      <td>0</td>\n",
       "      <td>0</td>\n",
       "      <td>0</td>\n",
       "      <td>0</td>\n",
       "      <td>0</td>\n",
       "      <td>0</td>\n",
       "      <td>0</td>\n",
       "      <td>0.0</td>\n",
       "      <td>0</td>\n",
       "    </tr>\n",
       "    <tr>\n",
       "      <th>2</th>\n",
       "      <td>Rúnar Alex Rúnarsson</td>\n",
       "      <td>13</td>\n",
       "      <td>Arsenal</td>\n",
       "      <td>Goalkeeper</td>\n",
       "      <td>Iceland</td>\n",
       "      <td>25</td>\n",
       "      <td>0</td>\n",
       "      <td>0</td>\n",
       "      <td>0</td>\n",
       "      <td>0</td>\n",
       "      <td>...</td>\n",
       "      <td>0</td>\n",
       "      <td>0</td>\n",
       "      <td>0</td>\n",
       "      <td>0</td>\n",
       "      <td>0</td>\n",
       "      <td>0</td>\n",
       "      <td>0</td>\n",
       "      <td>0</td>\n",
       "      <td>25.0</td>\n",
       "      <td>59</td>\n",
       "    </tr>\n",
       "    <tr>\n",
       "      <th>3</th>\n",
       "      <td>Héctor Bellerín</td>\n",
       "      <td>2</td>\n",
       "      <td>Arsenal</td>\n",
       "      <td>Defender</td>\n",
       "      <td>Spain</td>\n",
       "      <td>25</td>\n",
       "      <td>160</td>\n",
       "      <td>90</td>\n",
       "      <td>37</td>\n",
       "      <td>7</td>\n",
       "      <td>...</td>\n",
       "      <td>0</td>\n",
       "      <td>0</td>\n",
       "      <td>0</td>\n",
       "      <td>0</td>\n",
       "      <td>23</td>\n",
       "      <td>0</td>\n",
       "      <td>125</td>\n",
       "      <td>8</td>\n",
       "      <td>1.0</td>\n",
       "      <td>2</td>\n",
       "    </tr>\n",
       "    <tr>\n",
       "      <th>4</th>\n",
       "      <td>Kieran Tierney</td>\n",
       "      <td>3</td>\n",
       "      <td>Arsenal</td>\n",
       "      <td>Defender</td>\n",
       "      <td>Scotland</td>\n",
       "      <td>23</td>\n",
       "      <td>16</td>\n",
       "      <td>7</td>\n",
       "      <td>5</td>\n",
       "      <td>1</td>\n",
       "      <td>...</td>\n",
       "      <td>0</td>\n",
       "      <td>0</td>\n",
       "      <td>0</td>\n",
       "      <td>0</td>\n",
       "      <td>2</td>\n",
       "      <td>0</td>\n",
       "      <td>9</td>\n",
       "      <td>0</td>\n",
       "      <td>0.0</td>\n",
       "      <td>0</td>\n",
       "    </tr>\n",
       "  </tbody>\n",
       "</table>\n",
       "<p>5 rows × 61 columns</p>\n",
       "</div>"
      ],
      "text/plain": [
       "                   Name  Jersey Number     Club    Position Nationality  Age  \\\n",
       "0            Bernd Leno              1  Arsenal  Goalkeeper     Germany   28   \n",
       "1            Matt Macey             33  Arsenal  Goalkeeper     England   26   \n",
       "2  Rúnar Alex Rúnarsson             13  Arsenal  Goalkeeper     Iceland   25   \n",
       "3       Héctor Bellerín              2  Arsenal    Defender       Spain   25   \n",
       "4        Kieran Tierney              3  Arsenal    Defender    Scotland   23   \n",
       "\n",
       "   Appearances  Wins  Losses  Goals  ...  Catches  Sweeper clearances  \\\n",
       "0           64    28      16      0  ...       17                  28   \n",
       "1            0     0       0      0  ...        0                   0   \n",
       "2            0     0       0      0  ...        0                   0   \n",
       "3          160    90      37      7  ...        0                   0   \n",
       "4           16     7       5      1  ...        0                   0   \n",
       "\n",
       "   Throw outs  Goal Kicks  Yellow cards  Red cards  Fouls  Offsides  \\\n",
       "0         375         489             2          0      0         0   \n",
       "1           0           0             0          0      0         0   \n",
       "2           0           0             0          0      0         0   \n",
       "3           0           0            23          0    125         8   \n",
       "4           0           0             2          0      9         0   \n",
       "\n",
       "  Predicted Goals  Rating based on scoring  \n",
       "0             0.0                        0  \n",
       "1             0.0                        0  \n",
       "2            25.0                       59  \n",
       "3             1.0                        2  \n",
       "4             0.0                        0  \n",
       "\n",
       "[5 rows x 61 columns]"
      ]
     },
     "execution_count": 50,
     "metadata": {},
     "output_type": "execute_result"
    }
   ],
   "source": [
    "df.head(5)"
   ]
  },
  {
   "cell_type": "markdown",
   "id": "7bfedec7-0ef7-4835-8182-e24fb9f244f5",
   "metadata": {},
   "source": [
    "# Exporting the predictions"
   ]
  },
  {
   "cell_type": "markdown",
   "id": "8c26d862-16c6-4635-b927-45aa67c6b1e1",
   "metadata": {},
   "source": [
    "## Craeting a new dataframe"
   ]
  },
  {
   "cell_type": "code",
   "execution_count": 54,
   "id": "76cae5b1-cb3e-46c2-a000-8f0769dc3241",
   "metadata": {},
   "outputs": [],
   "source": [
    "resultData = pd.DataFrame()"
   ]
  },
  {
   "cell_type": "markdown",
   "id": "b0491722-e89e-4bf4-b5eb-2901f1bb03d5",
   "metadata": {},
   "source": [
    "## Choosing columns to add"
   ]
  },
  {
   "cell_type": "code",
   "execution_count": 55,
   "id": "8f4b4e61-e3b1-4383-977c-1328279bc14d",
   "metadata": {},
   "outputs": [],
   "source": [
    "dataToAdd = ['Name', 'Club','Predicted Goals', 'Rating based on scoring']"
   ]
  },
  {
   "cell_type": "markdown",
   "id": "30de31a9-3da0-497c-be55-64f8aae4730e",
   "metadata": {},
   "source": [
    "### Adding columns to the new dataframe"
   ]
  },
  {
   "cell_type": "code",
   "execution_count": 61,
   "id": "99bccea5-f4d5-4d85-adf3-03d11dca301f",
   "metadata": {},
   "outputs": [],
   "source": [
    "for col in dataToAdd:\n",
    "    resultData[col] = df[col]"
   ]
  },
  {
   "cell_type": "markdown",
   "id": "01640fa1-1d41-4064-b14c-4f95694019d9",
   "metadata": {},
   "source": [
    "## Checking the new Dataframe"
   ]
  },
  {
   "cell_type": "code",
   "execution_count": 62,
   "id": "2d176b70-9539-45fc-8122-55121fc028f3",
   "metadata": {},
   "outputs": [
    {
     "data": {
      "text/html": [
       "<div>\n",
       "<style scoped>\n",
       "    .dataframe tbody tr th:only-of-type {\n",
       "        vertical-align: middle;\n",
       "    }\n",
       "\n",
       "    .dataframe tbody tr th {\n",
       "        vertical-align: top;\n",
       "    }\n",
       "\n",
       "    .dataframe thead th {\n",
       "        text-align: right;\n",
       "    }\n",
       "</style>\n",
       "<table border=\"1\" class=\"dataframe\">\n",
       "  <thead>\n",
       "    <tr style=\"text-align: right;\">\n",
       "      <th></th>\n",
       "      <th>Name</th>\n",
       "      <th>Club</th>\n",
       "      <th>Predicted Goals</th>\n",
       "      <th>Rating based on scoring</th>\n",
       "    </tr>\n",
       "  </thead>\n",
       "  <tbody>\n",
       "    <tr>\n",
       "      <th>0</th>\n",
       "      <td>Bernd Leno</td>\n",
       "      <td>Arsenal</td>\n",
       "      <td>0.0</td>\n",
       "      <td>0</td>\n",
       "    </tr>\n",
       "    <tr>\n",
       "      <th>1</th>\n",
       "      <td>Matt Macey</td>\n",
       "      <td>Arsenal</td>\n",
       "      <td>0.0</td>\n",
       "      <td>0</td>\n",
       "    </tr>\n",
       "    <tr>\n",
       "      <th>2</th>\n",
       "      <td>Rúnar Alex Rúnarsson</td>\n",
       "      <td>Arsenal</td>\n",
       "      <td>25.0</td>\n",
       "      <td>59</td>\n",
       "    </tr>\n",
       "    <tr>\n",
       "      <th>3</th>\n",
       "      <td>Héctor Bellerín</td>\n",
       "      <td>Arsenal</td>\n",
       "      <td>1.0</td>\n",
       "      <td>2</td>\n",
       "    </tr>\n",
       "    <tr>\n",
       "      <th>4</th>\n",
       "      <td>Kieran Tierney</td>\n",
       "      <td>Arsenal</td>\n",
       "      <td>0.0</td>\n",
       "      <td>0</td>\n",
       "    </tr>\n",
       "  </tbody>\n",
       "</table>\n",
       "</div>"
      ],
      "text/plain": [
       "                   Name     Club  Predicted Goals  Rating based on scoring\n",
       "0            Bernd Leno  Arsenal              0.0                        0\n",
       "1            Matt Macey  Arsenal              0.0                        0\n",
       "2  Rúnar Alex Rúnarsson  Arsenal             25.0                       59\n",
       "3       Héctor Bellerín  Arsenal              1.0                        2\n",
       "4        Kieran Tierney  Arsenal              0.0                        0"
      ]
     },
     "execution_count": 62,
     "metadata": {},
     "output_type": "execute_result"
    }
   ],
   "source": [
    "resultData.head(5)"
   ]
  },
  {
   "cell_type": "markdown",
   "id": "026300e6-1e73-4c4a-8e08-8de732dfeda1",
   "metadata": {},
   "source": [
    "## Exporting the new Dataframe"
   ]
  },
  {
   "cell_type": "code",
   "execution_count": 63,
   "id": "4ab67db8-e93c-4f89-a7d3-aec02af3fe93",
   "metadata": {},
   "outputs": [],
   "source": [
    "resultData.to_csv('results.csv')"
   ]
  }
 ],
 "metadata": {
  "kernelspec": {
   "display_name": "Python 3 (ipykernel)",
   "language": "python",
   "name": "python3"
  },
  "language_info": {
   "codemirror_mode": {
    "name": "ipython",
    "version": 3
   },
   "file_extension": ".py",
   "mimetype": "text/x-python",
   "name": "python",
   "nbconvert_exporter": "python",
   "pygments_lexer": "ipython3",
   "version": "3.12.1"
  }
 },
 "nbformat": 4,
 "nbformat_minor": 5
}
